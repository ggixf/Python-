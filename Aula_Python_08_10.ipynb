{
  "nbformat": 4,
  "nbformat_minor": 0,
  "metadata": {
    "colab": {
      "provenance": [],
      "authorship_tag": "ABX9TyPsmyg4J2UkH2ewILpWHK9k",
      "include_colab_link": true
    },
    "kernelspec": {
      "name": "python3",
      "display_name": "Python 3"
    },
    "language_info": {
      "name": "python"
    }
  },
  "cells": [
    {
      "cell_type": "markdown",
      "metadata": {
        "id": "view-in-github",
        "colab_type": "text"
      },
      "source": [
        "<a href=\"https://colab.research.google.com/github/ggixf/Python-/blob/main/Aula_Python_08_10.ipynb\" target=\"_parent\"><img src=\"https://colab.research.google.com/assets/colab-badge.svg\" alt=\"Open In Colab\"/></a>"
      ]
    },
    {
      "cell_type": "code",
      "execution_count": null,
      "metadata": {
        "id": "d_LWrxIoWpuM"
      },
      "outputs": [],
      "source": [
        "\"\"\"\"\"\"Crie uma lista com cinco números e imprima cada número.\"\"\""
      ]
    },
    {
      "cell_type": "code",
      "source": [
        "minha_lista = [1, 2, 3, 4, 5]\n",
        "\n",
        "print(minha_lista)"
      ],
      "metadata": {
        "colab": {
          "base_uri": "https://localhost:8080/"
        },
        "id": "ldqJbvtTW4Ri",
        "outputId": "03160c82-b0e1-444e-b292-306dc87ce540"
      },
      "execution_count": 2,
      "outputs": [
        {
          "output_type": "stream",
          "name": "stdout",
          "text": [
            "[1, 2, 3, 4, 5]\n"
          ]
        }
      ]
    },
    {
      "cell_type": "markdown",
      "source": [
        "2. Adicione um número ao final da lista usando append()."
      ],
      "metadata": {
        "id": "DGRHrzhdXInT"
      }
    },
    {
      "cell_type": "code",
      "source": [
        "minha_lista = [1, 2, 3, 4, 5]\n",
        "minha_lista.append(3)\n",
        "\n",
        "print(minha_lista)"
      ],
      "metadata": {
        "colab": {
          "base_uri": "https://localhost:8080/"
        },
        "id": "SmiSo_ZYXKty",
        "outputId": "10eb0c86-ee15-48bd-8635-37e6ad9142d9"
      },
      "execution_count": 4,
      "outputs": [
        {
          "output_type": "stream",
          "name": "stdout",
          "text": [
            "[1, 2, 3, 4, 5, 3]\n"
          ]
        }
      ]
    },
    {
      "cell_type": "markdown",
      "source": [
        "3. Remova o último número da lista com pop()."
      ],
      "metadata": {
        "id": "mKjc9_BxX7_g"
      }
    },
    {
      "cell_type": "code",
      "source": [
        "minha_lista = [\"ola\", \"que\", \"saudade\"]\n",
        "minha_lista.remove(\"que\")\n",
        "\n",
        "print(minha_lista)\n"
      ],
      "metadata": {
        "colab": {
          "base_uri": "https://localhost:8080/"
        },
        "id": "lFdxf4lXX_Rl",
        "outputId": "9a274df9-82aa-4412-e852-ac0e9aac70bf"
      },
      "execution_count": 5,
      "outputs": [
        {
          "output_type": "stream",
          "name": "stdout",
          "text": [
            "['ola', 'saudade']\n"
          ]
        }
      ]
    },
    {
      "cell_type": "markdown",
      "source": [
        "4. Acesse o primeiro e o último elemento da lista."
      ],
      "metadata": {
        "id": "vWthf5fHYfxr"
      }
    },
    {
      "cell_type": "code",
      "source": [
        "minha_lista = [1, 2, 3, 4, 5]\n",
        "\n",
        "print(minha_lista[0])\n",
        "print(minha_lista[4])"
      ],
      "metadata": {
        "colab": {
          "base_uri": "https://localhost:8080/"
        },
        "id": "A9udwi6AYlHS",
        "outputId": "48c4501b-cbcb-4c14-9698-aa1f41b93e73"
      },
      "execution_count": 12,
      "outputs": [
        {
          "output_type": "stream",
          "name": "stdout",
          "text": [
            "1\n",
            "5\n"
          ]
        }
      ]
    },
    {
      "cell_type": "markdown",
      "source": [
        "5. Conte quantos elementos estão na lista com len()."
      ],
      "metadata": {
        "id": "q6iqRAwQbvLJ"
      }
    },
    {
      "cell_type": "code",
      "source": [
        "numeros = [1, 2, 3, 4, 5]\n",
        "quantidade = len(numeros)\n",
        "print(\"A quantidade de numeros é:\", quantidade)"
      ],
      "metadata": {
        "colab": {
          "base_uri": "https://localhost:8080/"
        },
        "id": "2zepsYj4b_L6",
        "outputId": "3711c839-1b5f-4e38-9750-df913cc13073"
      },
      "execution_count": 14,
      "outputs": [
        {
          "output_type": "stream",
          "name": "stdout",
          "text": [
            "A quantidade de numeros é: 5\n"
          ]
        }
      ]
    },
    {
      "cell_type": "markdown",
      "source": [
        "6. Inverta a lista e imprima o resultado."
      ],
      "metadata": {
        "id": "ETOej4qzc4tZ"
      }
    },
    {
      "cell_type": "code",
      "source": [
        "valores = [2, 4, 6]\n",
        "valores.reverse()\n",
        "\n",
        "print(valores)"
      ],
      "metadata": {
        "colab": {
          "base_uri": "https://localhost:8080/"
        },
        "id": "9vDiPPh1c6Mv",
        "outputId": "22066d57-034a-4ecd-fd7d-581b4a9f4d4d"
      },
      "execution_count": 15,
      "outputs": [
        {
          "output_type": "stream",
          "name": "stdout",
          "text": [
            "[6, 4, 2]\n"
          ]
        }
      ]
    },
    {
      "cell_type": "markdown",
      "source": [
        "7. Crie uma nova lista com os quadrados dos números de 1 a 10."
      ],
      "metadata": {
        "id": "yyeJaVS0drvR"
      }
    },
    {
      "cell_type": "code",
      "source": [
        "quadrados = [x**2 for x in range(1, 11)]\n",
        "print(quadrados)"
      ],
      "metadata": {
        "colab": {
          "base_uri": "https://localhost:8080/"
        },
        "id": "bKI-Fj4qeDkj",
        "outputId": "7999bd17-427c-46e9-9112-de1bb37b8325"
      },
      "execution_count": 16,
      "outputs": [
        {
          "output_type": "stream",
          "name": "stdout",
          "text": [
            "[1, 4, 9, 16, 25, 36, 49, 64, 81, 100]\n"
          ]
        }
      ]
    },
    {
      "cell_type": "markdown",
      "source": [
        "8. Filtre e crie uma lista com apenas os números pares de uma lista existente."
      ],
      "metadata": {
        "id": "b6fj3-rXemE5"
      }
    },
    {
      "cell_type": "code",
      "source": [
        "numeros = [1, 2, 3, 4, 5, 6, 7, 8, 9, 10, 11, 12, 13, 14, 15, 16]\n",
        "\n",
        "pares = [x for x in numeros if x % 2 == 0]\n",
        "print(pares)"
      ],
      "metadata": {
        "colab": {
          "base_uri": "https://localhost:8080/"
        },
        "id": "fnylcwmfenv_",
        "outputId": "68bc322d-cbaa-460a-fa9e-15a35400fa83"
      },
      "execution_count": 17,
      "outputs": [
        {
          "output_type": "stream",
          "name": "stdout",
          "text": [
            "[2, 4, 6, 8, 10, 12, 14, 16]\n"
          ]
        }
      ]
    },
    {
      "cell_type": "markdown",
      "source": [
        "9. Use compreensão de listas para criar uma lista de letras de uma string"
      ],
      "metadata": {
        "id": "6a4qDO7egPed"
      }
    },
    {
      "cell_type": "code",
      "source": [
        "string = \"lista\"\n",
        "\n",
        "lista_de_letras = [letra for letra in string]\n",
        "print(lista_de_letras)"
      ],
      "metadata": {
        "colab": {
          "base_uri": "https://localhost:8080/"
        },
        "id": "It2UCnSxgZY9",
        "outputId": "6d421666-6c91-476f-9dde-30ab1c6b61eb"
      },
      "execution_count": 18,
      "outputs": [
        {
          "output_type": "stream",
          "name": "stdout",
          "text": [
            "['l', 'i', 's', 't', 'a']\n"
          ]
        }
      ]
    }
  ]
}